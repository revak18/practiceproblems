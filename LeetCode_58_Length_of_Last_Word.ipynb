{
  "nbformat": 4,
  "nbformat_minor": 0,
  "metadata": {
    "colab": {
      "provenance": [],
      "authorship_tag": "ABX9TyPkd5awaj8eakfxeaUXlgxL",
      "include_colab_link": true
    },
    "kernelspec": {
      "name": "python3",
      "display_name": "Python 3"
    },
    "language_info": {
      "name": "python"
    }
  },
  "cells": [
    {
      "cell_type": "markdown",
      "metadata": {
        "id": "view-in-github",
        "colab_type": "text"
      },
      "source": [
        "<a href=\"https://colab.research.google.com/github/revak18/practiceproblems/blob/main/LeetCode_58_Length_of_Last_Word.ipynb\" target=\"_parent\"><img src=\"https://colab.research.google.com/assets/colab-badge.svg\" alt=\"Open In Colab\"/></a>"
      ]
    },
    {
      "cell_type": "code",
      "source": [
        "class Solution:\n",
        "    def lengthOfLastWord(self, s: str) -> int:\n",
        "        words = s.split()\n",
        "        return len(words[-1])"
      ],
      "metadata": {
        "id": "L_oKA6nimL0h"
      },
      "execution_count": null,
      "outputs": []
    }
  ]
}