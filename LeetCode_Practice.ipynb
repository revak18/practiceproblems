{
  "nbformat": 4,
  "nbformat_minor": 0,
  "metadata": {
    "colab": {
      "provenance": [],
      "authorship_tag": "ABX9TyPvl0KbqTq0pzB/8j5Q0JDA",
      "include_colab_link": true
    },
    "kernelspec": {
      "name": "python3",
      "display_name": "Python 3"
    },
    "language_info": {
      "name": "python"
    }
  },
  "cells": [
    {
      "cell_type": "markdown",
      "metadata": {
        "id": "view-in-github",
        "colab_type": "text"
      },
      "source": [
        "<a href=\"https://colab.research.google.com/github/revak18/practiceproblems/blob/main/LeetCode_Practice.ipynb\" target=\"_parent\"><img src=\"https://colab.research.google.com/assets/colab-badge.svg\" alt=\"Open In Colab\"/></a>"
      ]
    },
    {
      "cell_type": "markdown",
      "source": [
        "# 1. Two Sum\n",
        "\n",
        "Given an array of integers nums and an integer target, return indices of the two numbers such that they add up to target.\n",
        "\n",
        "You may assume that each input would have exactly one solution, and you may not use the same element twice.\n",
        "\n",
        "You can return the answer in any order."
      ],
      "metadata": {
        "id": "bDRVBLGWdtja"
      }
    },
    {
      "cell_type": "code",
      "source": [
        "def two_sum(nums, target):\n",
        "  seen = {}\n",
        "  print(\"1:\",nums, target)\n",
        "  for i, num in enumerate(nums):\n",
        "    print('2: num', num)\n",
        "    complement = target - num\n",
        "    print('3: complement', complement)\n",
        "    if complement in seen:\n",
        "      return [seen[complement], i]\n",
        "      print(\"4: seen\", seen)\n",
        "    seen[num] = i\n",
        "    print(\"5: seen\", seen)\n",
        "  return []\n",
        "\n",
        "nums = [2, 7, 11, 15]\n",
        "target = 9\n",
        "indices = two_sum(nums, target)\n",
        "print(indices)\n",
        "\n",
        "nums = [3, 2, 4]\n",
        "target = 6\n",
        "indices = two_sum(nums, target)\n",
        "print(indices)\n",
        "\n",
        "nums = [3, 3]\n",
        "target = 6\n",
        "indices = two_sum(nums, target)\n",
        "print(indices)"
      ],
      "metadata": {
        "colab": {
          "base_uri": "https://localhost:8080/"
        },
        "id": "ryQudVh-gMO8",
        "outputId": "d36be542-9e66-4495-f4f4-67531df848a4"
      },
      "execution_count": null,
      "outputs": [
        {
          "output_type": "stream",
          "name": "stdout",
          "text": [
            "1: [2, 7, 11, 15] 9\n",
            "2: num 2\n",
            "3: complement 7\n",
            "5: seen {2: 0}\n",
            "2: num 7\n",
            "3: complement 2\n",
            "[0, 1]\n",
            "1: [3, 2, 4] 6\n",
            "2: num 3\n",
            "3: complement 3\n",
            "5: seen {3: 0}\n",
            "2: num 2\n",
            "3: complement 4\n",
            "5: seen {3: 0, 2: 1}\n",
            "2: num 4\n",
            "3: complement 2\n",
            "[1, 2]\n",
            "1: [3, 3] 6\n",
            "2: num 3\n",
            "3: complement 3\n",
            "5: seen {3: 0}\n",
            "2: num 3\n",
            "3: complement 3\n",
            "[0, 1]\n"
          ]
        }
      ]
    },
    {
      "cell_type": "code",
      "source": [
        "def roman_to_integer(roman):\n",
        "    \"\"\"Converts a Roman numeral string to its corresponding integer.\n",
        "\n",
        "    Args:\n",
        "        roman: The Roman numeral string to convert (e.g., \"MCMXIV\").\n",
        "\n",
        "    Returns:\n",
        "        The integer equivalent of the given Roman numeral.\n",
        "\n",
        "    Raises:\n",
        "        ValueError: If the input string is invalid or exceeds the supported\n",
        "                    range (1 to 3999).\n",
        "    \"\"\"\n",
        "\n",
        "    roman_map = {\n",
        "        \"I\": 1,\n",
        "        \"V\": 5,\n",
        "        \"X\": 10,\n",
        "        \"L\": 50,\n",
        "        \"C\": 100,\n",
        "        \"D\": 500,\n",
        "        \"M\": 1000\n",
        "    }\n",
        "\n",
        "    decimal_value = 0\n",
        "    prev_value = 0\n",
        "\n",
        "    for symbol in roman:\n",
        "        if symbol not in roman_map:\n",
        "            raise ValueError(\"Invalid Roman numeral symbol: {}\".format(symbol))\n",
        "\n",
        "        value = roman_map[symbol]\n",
        "\n",
        "        if value > prev_value:  # Check if subtraction applies\n",
        "            if prev_value in (1, 10, 100):  # Only subtract I, X, C before their next multiple\n",
        "                decimal_value -= 2 * prev_value\n",
        "            else:\n",
        "                raise ValueError(\"Invalid Roman numeral combination\")\n",
        "        else:\n",
        "            decimal_value += value\n",
        "\n",
        "        prev_value = value\n",
        "\n",
        "    if decimal_value > 3999:\n",
        "        raise ValueError(\"Roman numeral value exceeds supported range (1 to 3999)\")\n",
        "\n",
        "    return decimal_value\n",
        "\n",
        "# Example usage\n",
        "roman_numeral = \"MCMXIV\"\n",
        "integer_value = roman_to_integer(roman_numeral)\n",
        "print(f\"The integer equivalent of {roman_numeral} is: {integer_value}\")\n"
      ],
      "metadata": {
        "id": "8YKnH3xOnHPF"
      },
      "execution_count": null,
      "outputs": []
    }
  ]
}