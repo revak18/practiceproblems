{
  "nbformat": 4,
  "nbformat_minor": 0,
  "metadata": {
    "colab": {
      "provenance": [],
      "authorship_tag": "ABX9TyN7MmLSHZNxdHVCKEet8+Zf",
      "include_colab_link": true
    },
    "kernelspec": {
      "name": "python3",
      "display_name": "Python 3"
    },
    "language_info": {
      "name": "python"
    }
  },
  "cells": [
    {
      "cell_type": "markdown",
      "metadata": {
        "id": "view-in-github",
        "colab_type": "text"
      },
      "source": [
        "<a href=\"https://colab.research.google.com/github/revak18/practiceproblems/blob/main/LeetCode_Practice.ipynb\" target=\"_parent\"><img src=\"https://colab.research.google.com/assets/colab-badge.svg\" alt=\"Open In Colab\"/></a>"
      ]
    },
    {
      "cell_type": "markdown",
      "source": [
        "# 1. Two Sum\n",
        "\n",
        "Given an array of integers nums and an integer target, return indices of the two numbers such that they add up to target.\n",
        "\n",
        "You may assume that each input would have exactly one solution, and you may not use the same element twice.\n",
        "\n",
        "You can return the answer in any order."
      ],
      "metadata": {
        "id": "bDRVBLGWdtja"
      }
    },
    {
      "cell_type": "code",
      "source": [
        "def two_sum(nums, target):\n",
        "  seen = {}\n",
        "  print(\"1:\",nums, target)\n",
        "  for i, num in enumerate(nums):\n",
        "    print('2: num', num)\n",
        "    complement = target - num\n",
        "    print('3: complement', complement)\n",
        "    if complement in seen:\n",
        "      return [seen[complement], i]\n",
        "      print(\"4: seen\", seen)\n",
        "    seen[num] = i\n",
        "    print(\"5: seen\", seen)\n",
        "  return []\n",
        "\n",
        "nums = [2, 7, 11, 15]\n",
        "target = 9\n",
        "indices = two_sum(nums, target)\n",
        "print(indices)\n",
        "\n",
        "nums = [3, 2, 4]\n",
        "target = 6\n",
        "indices = two_sum(nums, target)\n",
        "print(indices)\n",
        "\n",
        "nums = [3, 3]\n",
        "target = 6\n",
        "indices = two_sum(nums, target)\n",
        "print(indices)"
      ],
      "metadata": {
        "colab": {
          "base_uri": "https://localhost:8080/"
        },
        "id": "ryQudVh-gMO8",
        "outputId": "d36be542-9e66-4495-f4f4-67531df848a4"
      },
      "execution_count": 13,
      "outputs": [
        {
          "output_type": "stream",
          "name": "stdout",
          "text": [
            "1: [2, 7, 11, 15] 9\n",
            "2: num 2\n",
            "3: complement 7\n",
            "5: seen {2: 0}\n",
            "2: num 7\n",
            "3: complement 2\n",
            "[0, 1]\n",
            "1: [3, 2, 4] 6\n",
            "2: num 3\n",
            "3: complement 3\n",
            "5: seen {3: 0}\n",
            "2: num 2\n",
            "3: complement 4\n",
            "5: seen {3: 0, 2: 1}\n",
            "2: num 4\n",
            "3: complement 2\n",
            "[1, 2]\n",
            "1: [3, 3] 6\n",
            "2: num 3\n",
            "3: complement 3\n",
            "5: seen {3: 0}\n",
            "2: num 3\n",
            "3: complement 3\n",
            "[0, 1]\n"
          ]
        }
      ]
    }
  ]
}